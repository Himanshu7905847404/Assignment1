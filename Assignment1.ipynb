{
 "cells": [
  {
   "cell_type": "code",
   "execution_count": 3,
   "id": "08bf3132-de95-4e45-9b6f-9422aba17458",
   "metadata": {},
   "outputs": [
    {
     "name": "stdout",
     "output_type": "stream",
     "text": [
      "2 * 1  = 2\n",
      "2 * 2  = 4\n",
      "2 * 3  = 6\n",
      "2 * 4  = 8\n",
      "2 * 5  = 10\n",
      "2 * 6  = 12\n",
      "2 * 7  = 14\n",
      "2 * 8  = 16\n",
      "2 * 9  = 18\n",
      "2 * 10  = 20\n"
     ]
    },
    {
     "name": "stdin",
     "output_type": "stream",
     "text": [
      "Enter the number and reverse it 123\n"
     ]
    },
    {
     "name": "stdout",
     "output_type": "stream",
     "text": [
      "321\n"
     ]
    }
   ],
   "source": [
    "# Q1. The for loop is used when we already know the number of iterations, which means when we know how many times a statement has to be executed. \n",
    "\n",
    "##When we need to end the loop on a condition other than the number of times, we use a while loop.\n",
    "\n",
    "# For Loop\n",
    "for i in range(1,11,1):\n",
    "    print(\"2 *\",i,\" =\",2*i)\n",
    "\n",
    "#While Loop\n",
    "n=int(input(\"Enter the number and reverse it\"))\n",
    "rev=0\n",
    "while(n>0):\n",
    "    rem=n%10\n",
    "    rev=rev*10+rem\n",
    "    n=n//10\n",
    "print(rev)\n",
    "\n"
   ]
  },
  {
   "cell_type": "code",
   "execution_count": 6,
   "id": "1f96a199-77e6-4b18-a1a1-ccaa21d4a81f",
   "metadata": {},
   "outputs": [
    {
     "name": "stdout",
     "output_type": "stream",
     "text": [
      "The Sum is : 55\n",
      "The Sum is: 55\n",
      "The Product of First natural number is 3628800\n",
      "The Product of First natural number is 3628800\n"
     ]
    }
   ],
   "source": [
    "# Q2. \n",
    "\n",
    "# Sum of 10 natural number Using For Loop:\n",
    "Sum1=0\n",
    "for i in range(1,11):\n",
    "    Sum1+=i\n",
    "print(\"The Sum is :\",Sum1)\n",
    "\n",
    "\n",
    "# Sum of 10 natural number Using While Loop:\n",
    "n=10\n",
    "Sum2=0\n",
    "while(n>0):\n",
    "    Sum2+=n\n",
    "    n-=1\n",
    "print(\"The Sum is:\",Sum2)\n",
    "\n",
    "\n",
    "# Product of the first 10 natural numbers using for Loop\n",
    "Product=1\n",
    "for i in range(1,11):\n",
    "    Product*=i\n",
    "print(\"The Product of First natural number is\",Product)\n",
    "\n",
    "# Product of the first 10 natural numbers using While Loop\n",
    "Product1=1\n",
    "n=10\n",
    "while(n>0):\n",
    "    Product1*=n\n",
    "    n-=1\n",
    "print(\"The Product of First natural number is\",Product1)\n"
   ]
  },
  {
   "cell_type": "code",
   "execution_count": 10,
   "id": "cda80a10-1b71-46d2-86da-581281b70bc2",
   "metadata": {},
   "outputs": [
    {
     "name": "stdout",
     "output_type": "stream",
     "text": [
      "Python program to compute the electricity bill for a household.\n"
     ]
    },
    {
     "name": "stdin",
     "output_type": "stream",
     "text": [
      "Enter Your Bill Unit Consumed in a month :\n",
      "               The per-unit charges in rupees are as follows:\n",
      "              1- For the first 100 units, the user will be charged Rs. 4.5 per unit.\n",
      "              2- For the next 100 units, the user will be charged Rs. 6 per unit.\n",
      "              3- For the next 100 units, the user will be charged Rs. 10 per unit.\n",
      "              4- After 300 units and above the user will be charged Rs. 20 per unit.\n",
      "                310\n"
     ]
    },
    {
     "name": "stdout",
     "output_type": "stream",
     "text": [
      "Total Amount to paid is: 2250\n"
     ]
    }
   ],
   "source": [
    "# Q3. \n",
    "print(\"Python program to compute the electricity bill for a household.\")\n",
    "n=int(input('''Enter Your Bill Unit Consumed in a month :\n",
    "               The per-unit charges in rupees are as follows:\n",
    "              1- For the first 100 units, the user will be charged Rs. 4.5 per unit.\n",
    "              2- For the next 100 units, the user will be charged Rs. 6 per unit.\n",
    "              3- For the next 100 units, the user will be charged Rs. 10 per unit.\n",
    "              4- After 300 units and above the user will be charged Rs. 20 per unit.\n",
    "               '''))\n",
    "Total = 0\n",
    "if n<=100:\n",
    "    Total+=n*4.5\n",
    "elif n>100 and n<=200:\n",
    "    Total+=(100)*4.5+(n-100)*6\n",
    "elif n>200 and n<=300:\n",
    "    Total+=100*4.5+100*6+(n-200)*10\n",
    "elif n>300:\n",
    "    Total+=100*4.5+100*6+100*10+(n-300)*20\n",
    "\n",
    "print(\"Total Amount to paid is:\",int(Total))"
   ]
  },
  {
   "cell_type": "code",
   "execution_count": 13,
   "id": "6d696b76-bb79-4f2a-b094-3239c4680dc2",
   "metadata": {},
   "outputs": [
    {
     "name": "stdout",
     "output_type": "stream",
     "text": [
      "cube of each number [1, 8, 27, 64, 125, 216, 343, 512, 729, 1000, 1331, 1728, 2197, 2744, 3375, 4096, 4913, 5832, 6859, 8000, 9261, 10648, 12167, 13824, 15625, 17576, 19683, 21952, 24389, 27000, 29791, 32768, 35937, 39304, 42875, 46656, 50653, 54872, 59319, 64000, 68921, 74088, 79507, 85184, 91125, 97336, 103823, 110592, 117649, 125000, 132651, 140608, 148877, 157464, 166375, 175616, 185193, 195112, 205379, 216000, 226981, 238328, 250047, 262144, 274625, 287496, 300763, 314432, 328509, 343000, 357911, 373248, 389017, 405224, 421875, 438976, 456533, 474552, 493039, 512000, 531441, 551368, 571787, 592704, 614125, 636056, 658503, 681472, 704969, 729000, 753571, 778688, 804357, 830584, 857375, 884736, 912673, 941192, 970299, 1000000]\n",
      "\n",
      "\n",
      "The cube of that number is divisible by 4 or 5 are : [1000, 8000, 27000, 64000, 125000, 216000, 343000, 512000, 729000, 1000000]\n"
     ]
    }
   ],
   "source": [
    "# Q4.\n",
    "# Create a list\n",
    "l=[]\n",
    "for i in range(1,101):\n",
    "    l.append(i)\n",
    "h1=[]\n",
    "for i in l:\n",
    "    h1.append(i**3)\n",
    "print(\"cube of each number\",h1)\n",
    "h=[]\n",
    "for i in h1:\n",
    "    if i % 4 == 0 and i % 5 == 0:\n",
    "        h.append(i)\n",
    "print(\"\\n\\nThe cube of that number is divisible by 4 or 5 are :\",h)"
   ]
  },
  {
   "cell_type": "code",
   "execution_count": 15,
   "id": "49e78647-5e34-4a7a-8447-a53a131cc2cf",
   "metadata": {},
   "outputs": [
    {
     "name": "stdout",
     "output_type": "stream",
     "text": [
      "Total vowel count in string is : 12\n"
     ]
    }
   ],
   "source": [
    "# Q5.\n",
    "string = \"I want to become a data scientist\"\n",
    "h=['a','e','i','o','u','A','E','I','O','U']\n",
    "c=0\n",
    "for i in string:\n",
    "    if i in h:\n",
    "        c+=1\n",
    "print(\"Total vowel count in string is :\",c)"
   ]
  },
  {
   "cell_type": "code",
   "execution_count": null,
   "id": "2c988184-a739-4b22-b782-10804c2637af",
   "metadata": {},
   "outputs": [],
   "source": []
  }
 ],
 "metadata": {
  "kernelspec": {
   "display_name": "Python 3 (ipykernel)",
   "language": "python",
   "name": "python3"
  },
  "language_info": {
   "codemirror_mode": {
    "name": "ipython",
    "version": 3
   },
   "file_extension": ".py",
   "mimetype": "text/x-python",
   "name": "python",
   "nbconvert_exporter": "python",
   "pygments_lexer": "ipython3",
   "version": "3.10.8"
  }
 },
 "nbformat": 4,
 "nbformat_minor": 5
}
